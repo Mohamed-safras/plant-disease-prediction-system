{
 "cells": [
  {
   "cell_type": "code",
   "execution_count": 1,
   "id": "45cac204",
   "metadata": {
    "_cell_guid": "b1076dfc-b9ad-4769-8c92-a6c4dae69d19",
    "_uuid": "8f2839f25d086af736a60e9eeb907d3b93b6e0e5",
    "execution": {
     "iopub.execute_input": "2022-11-16T12:43:41.937838Z",
     "iopub.status.busy": "2022-11-16T12:43:41.936752Z",
     "iopub.status.idle": "2022-11-16T12:43:49.926317Z",
     "shell.execute_reply": "2022-11-16T12:43:49.924756Z"
    },
    "papermill": {
     "duration": 8.001393,
     "end_time": "2022-11-16T12:43:49.929475",
     "exception": false,
     "start_time": "2022-11-16T12:43:41.928082",
     "status": "completed"
    },
    "tags": [],
    "pycharm": {
     "name": "#%%\n"
    }
   },
   "outputs": [],
   "source": [
    "import matplotlib.pyplot as plt\n",
    "import matplotlib.image as img\n",
    "\n",
    "import numpy as np\n",
    "\n",
    "import tensorflow as tf\n",
    "\n",
    "from tensorflow import keras\n",
    "from keras import layers\n",
    "from keras.models import Sequential\n",
    "from keras.utils import load_img\n",
    "from keras.utils import img_to_array\n",
    "\n",
    "\n",
    "from keras.models import load_model"
   ]
  },
  {
   "cell_type": "code",
   "execution_count": 2,
   "id": "cee333ac",
   "metadata": {
    "execution": {
     "iopub.execute_input": "2022-11-16T12:43:49.944450Z",
     "iopub.status.busy": "2022-11-16T12:43:49.943296Z",
     "iopub.status.idle": "2022-11-16T12:43:49.951008Z",
     "shell.execute_reply": "2022-11-16T12:43:49.949551Z"
    },
    "papermill": {
     "duration": 0.018034,
     "end_time": "2022-11-16T12:43:49.954051",
     "exception": false,
     "start_time": "2022-11-16T12:43:49.936017",
     "status": "completed"
    },
    "tags": [],
    "pycharm": {
     "name": "#%%\n"
    }
   },
   "outputs": [],
   "source": [
    "#set the dataset path\n",
    "data_dir = \"Tea_Leaf_Disease\""
   ]
  },
  {
   "cell_type": "code",
   "execution_count": 3,
   "id": "30482395",
   "metadata": {
    "execution": {
     "iopub.execute_input": "2022-11-16T12:43:49.968243Z",
     "iopub.status.busy": "2022-11-16T12:43:49.967254Z",
     "iopub.status.idle": "2022-11-16T12:43:49.973374Z",
     "shell.execute_reply": "2022-11-16T12:43:49.972317Z"
    },
    "papermill": {
     "duration": 0.016409,
     "end_time": "2022-11-16T12:43:49.976048",
     "exception": false,
     "start_time": "2022-11-16T12:43:49.959639",
     "status": "completed"
    },
    "tags": [],
    "pycharm": {
     "name": "#%%\n"
    }
   },
   "outputs": [],
   "source": [
    "#set image size batch size for pre processing\n",
    "img_height,img_width=180,180\n",
    "batch_size=32"
   ]
  },
  {
   "cell_type": "code",
   "execution_count": 4,
   "id": "107fcd24",
   "metadata": {
    "execution": {
     "iopub.execute_input": "2022-11-16T12:43:49.989027Z",
     "iopub.status.busy": "2022-11-16T12:43:49.988146Z",
     "iopub.status.idle": "2022-11-16T12:43:51.090165Z",
     "shell.execute_reply": "2022-11-16T12:43:51.088381Z"
    },
    "papermill": {
     "duration": 1.112048,
     "end_time": "2022-11-16T12:43:51.093290",
     "exception": false,
     "start_time": "2022-11-16T12:43:49.981242",
     "status": "completed"
    },
    "tags": [],
    "pycharm": {
     "name": "#%%\n"
    }
   },
   "outputs": [
    {
     "name": "stdout",
     "output_type": "stream",
     "text": [
      "Found 5867 files belonging to 6 classes.\n",
      "Using 4694 files for training.\n"
     ]
    }
   ],
   "source": [
    "#devide dataset for trainig \n",
    "train_ds = tf.keras.preprocessing.image_dataset_from_directory(\n",
    "  data_dir,\n",
    "  validation_split=0.2,\n",
    "  subset=\"training\",\n",
    "  seed=123,\n",
    "  image_size=(img_height, img_width),\n",
    "  batch_size=batch_size\n",
    ")"
   ]
  },
  {
   "cell_type": "code",
   "execution_count": 5,
   "id": "56d9a71a",
   "metadata": {
    "execution": {
     "iopub.execute_input": "2022-11-16T12:43:51.106069Z",
     "iopub.status.busy": "2022-11-16T12:43:51.105651Z",
     "iopub.status.idle": "2022-11-16T12:43:51.443919Z",
     "shell.execute_reply": "2022-11-16T12:43:51.442159Z"
    },
    "papermill": {
     "duration": 0.347975,
     "end_time": "2022-11-16T12:43:51.446788",
     "exception": false,
     "start_time": "2022-11-16T12:43:51.098813",
     "status": "completed"
    },
    "tags": [],
    "pycharm": {
     "name": "#%%\n"
    }
   },
   "outputs": [
    {
     "name": "stdout",
     "output_type": "stream",
     "text": [
      "Found 5867 files belonging to 6 classes.\n",
      "Using 1173 files for validation.\n"
     ]
    }
   ],
   "source": [
    "#devide dataset for validation \n",
    "val_ds = tf.keras.preprocessing.image_dataset_from_directory(\n",
    "  data_dir,\n",
    "  validation_split=0.2,\n",
    "  subset=\"validation\",\n",
    "  seed=123,\n",
    "  image_size=(img_height, img_width),\n",
    "  batch_size=batch_size)"
   ]
  },
  {
   "cell_type": "code",
   "execution_count": 13,
   "id": "702fb83f",
   "metadata": {
    "execution": {
     "iopub.execute_input": "2022-11-16T12:43:51.460156Z",
     "iopub.status.busy": "2022-11-16T12:43:51.459751Z",
     "iopub.status.idle": "2022-11-16T12:43:51.465970Z",
     "shell.execute_reply": "2022-11-16T12:43:51.464680Z"
    },
    "papermill": {
     "duration": 0.016921,
     "end_time": "2022-11-16T12:43:51.469307",
     "exception": false,
     "start_time": "2022-11-16T12:43:51.452386",
     "status": "completed"
    },
    "tags": [],
    "pycharm": {
     "name": "#%%\n"
    }
   },
   "outputs": [
    {
     "name": "stdout",
     "output_type": "stream",
     "text": [
      "['algal_spot', 'brown_blight', 'gray_blight', 'healthy', 'helopeltis', 'red_spot']\n"
     ]
    }
   ],
   "source": [
    "#get the class names from dataset\n",
    "class_names = train_ds.class_names\n",
    "print(class_names)"
   ]
  },
  {
   "cell_type": "code",
   "execution_count": 14,
   "id": "bdc25d81",
   "metadata": {
    "execution": {
     "iopub.execute_input": "2022-11-16T12:43:51.482834Z",
     "iopub.status.busy": "2022-11-16T12:43:51.482426Z",
     "iopub.status.idle": "2022-11-16T12:43:51.488161Z",
     "shell.execute_reply": "2022-11-16T12:43:51.486667Z"
    },
    "papermill": {
     "duration": 0.016259,
     "end_time": "2022-11-16T12:43:51.491369",
     "exception": false,
     "start_time": "2022-11-16T12:43:51.475110",
     "status": "completed"
    },
    "tags": [],
    "pycharm": {
     "name": "#%%\n"
    }
   },
   "outputs": [],
   "source": [
    "#our dataset have 6 classes\n",
    "num_classes = 6"
   ]
  },
  {
   "cell_type": "code",
   "execution_count": 9,
   "id": "163638be",
   "metadata": {
    "execution": {
     "iopub.execute_input": "2022-11-16T12:43:51.504818Z",
     "iopub.status.busy": "2022-11-16T12:43:51.504373Z",
     "iopub.status.idle": "2022-11-16T12:43:51.926119Z",
     "shell.execute_reply": "2022-11-16T12:43:51.923698Z"
    },
    "papermill": {
     "duration": 0.43354,
     "end_time": "2022-11-16T12:43:51.930436",
     "exception": false,
     "start_time": "2022-11-16T12:43:51.496896",
     "status": "completed"
    },
    "tags": [],
    "pycharm": {
     "name": "#%%\n"
    }
   },
   "outputs": [],
   "source": [
    "#set the image scale and size for model\n",
    "model = Sequential([\n",
    "  tf.keras.layers.experimental.preprocessing.Rescaling(1./255, input_shape=(img_height, img_width, 3)),\n",
    "  layers.Conv2D(16, 3, padding='same', activation='relu'),\n",
    "  layers.MaxPooling2D(),\n",
    "  layers.Conv2D(32, 3, padding='same', activation='relu'),\n",
    "  layers.MaxPooling2D(),\n",
    "  layers.Conv2D(64, 3, padding='same', activation='relu'),\n",
    "  layers.MaxPooling2D(),\n",
    "  layers.Flatten(),\n",
    "  layers.Dense(128, activation='relu'),\n",
    "  layers.Dense(num_classes,activation='softmax')\n",
    "])"
   ]
  },
  {
   "cell_type": "code",
   "execution_count": 10,
   "id": "bee09fc3",
   "metadata": {
    "execution": {
     "iopub.execute_input": "2022-11-16T12:43:51.947234Z",
     "iopub.status.busy": "2022-11-16T12:43:51.946418Z",
     "iopub.status.idle": "2022-11-16T12:43:51.966480Z",
     "shell.execute_reply": "2022-11-16T12:43:51.964642Z"
    },
    "papermill": {
     "duration": 0.033611,
     "end_time": "2022-11-16T12:43:51.970576",
     "exception": false,
     "start_time": "2022-11-16T12:43:51.936965",
     "status": "completed"
    },
    "tags": [],
    "pycharm": {
     "name": "#%%\n"
    }
   },
   "outputs": [],
   "source": [
    "#compile the model\n",
    "model.compile(optimizer='adam',\n",
    "              loss=tf.keras.losses.SparseCategoricalCrossentropy(from_logits=True),\n",
    "              metrics=['accuracy'])"
   ]
  },
  {
   "cell_type": "code",
   "execution_count": 12,
   "id": "9fea43c1",
   "metadata": {
    "execution": {
     "iopub.execute_input": "2022-11-16T12:43:51.984696Z",
     "iopub.status.busy": "2022-11-16T12:43:51.984014Z",
     "iopub.status.idle": "2022-11-16T12:53:57.833828Z",
     "shell.execute_reply": "2022-11-16T12:53:57.831549Z"
    },
    "papermill": {
     "duration": 605.861006,
     "end_time": "2022-11-16T12:53:57.837263",
     "exception": false,
     "start_time": "2022-11-16T12:43:51.976257",
     "status": "completed"
    },
    "tags": [],
    "pycharm": {
     "name": "#%%\n"
    }
   },
   "outputs": [
    {
     "name": "stdout",
     "output_type": "stream",
     "text": [
      "Epoch 1/15\n",
      "147/147 [==============================] - 27s 185ms/step - loss: 0.0261 - accuracy: 0.9925 - val_loss: 0.7331 - val_accuracy: 0.8423\n",
      "Epoch 2/15\n",
      " 89/147 [=================>............] - ETA: 10s - loss: 0.0100 - accuracy: 0.9975"
     ]
    },
    {
     "name": "stderr",
     "output_type": "stream",
     "text": [
      "\n",
      "KeyboardInterrupt\n",
      "\n"
     ]
    }
   ],
   "source": [
    "#fit the model\n",
    "epochs=15\n",
    "history = model.fit(\n",
    "  train_ds,\n",
    "  validation_data=val_ds,\n",
    "  epochs=epochs\n",
    ")"
   ]
  },
  {
   "cell_type": "code",
   "execution_count": null,
   "id": "e1ef7b8d",
   "metadata": {
    "execution": {
     "iopub.execute_input": "2022-11-16T12:53:58.238364Z",
     "iopub.status.busy": "2022-11-16T12:53:58.237457Z",
     "iopub.status.idle": "2022-11-16T12:53:58.370081Z",
     "shell.execute_reply": "2022-11-16T12:53:58.368846Z"
    },
    "papermill": {
     "duration": 0.295595,
     "end_time": "2022-11-16T12:53:58.372851",
     "exception": false,
     "start_time": "2022-11-16T12:53:58.077256",
     "status": "completed"
    },
    "tags": [],
    "pycharm": {
     "name": "#%%\n"
    }
   },
   "outputs": [],
   "source": [
    "#finally save the model\n",
    "# tf.keras.models.save_model(model,'tea.hdf5')"
   ]
  },
  {
   "cell_type": "code",
   "execution_count": null,
   "id": "dee5fb01",
   "metadata": {
    "execution": {
     "iopub.execute_input": "2022-11-16T12:53:58.665369Z",
     "iopub.status.busy": "2022-11-16T12:53:58.664324Z",
     "iopub.status.idle": "2022-11-16T12:53:58.878161Z",
     "shell.execute_reply": "2022-11-16T12:53:58.876580Z"
    },
    "papermill": {
     "duration": 0.362831,
     "end_time": "2022-11-16T12:53:58.880987",
     "exception": false,
     "start_time": "2022-11-16T12:53:58.518156",
     "status": "completed"
    },
    "tags": [],
    "pycharm": {
     "name": "#%%\n"
    }
   },
   "outputs": [],
   "source": [
    "# ======        for prediction using our trained model ============================================\n",
    "\n",
    "# from matplotlib import pyplot as plt\n",
    "# import os\n",
    "# import numpy as np\n",
    "\n",
    "\n",
    "# filepath = './tea.hdf5'\n",
    "# model = load_model(filepath)\n",
    "# print(model)\n",
    "\n",
    "# print(\"Model Loaded Successfully\")"
   ]
  },
  {
   "cell_type": "code",
   "execution_count": 15,
   "id": "c76b474a",
   "metadata": {
    "execution": {
     "iopub.execute_input": "2022-11-16T12:53:59.185241Z",
     "iopub.status.busy": "2022-11-16T12:53:59.184856Z",
     "iopub.status.idle": "2022-11-16T12:53:59.643601Z",
     "shell.execute_reply": "2022-11-16T12:53:59.642213Z"
    },
    "papermill": {
     "duration": 0.60665,
     "end_time": "2022-11-16T12:53:59.646278",
     "exception": false,
     "start_time": "2022-11-16T12:53:59.039628",
     "status": "completed"
    },
    "tags": [],
    "pycharm": {
     "name": "#%%\n"
    }
   },
   "outputs": [],
   "source": [
    "def predict(test_img_path):\n",
    "    test_image = load_img(test_img_path, target_size = (180,180)) # load image \n",
    "\n",
    "    test_image = img_to_array(test_image)#/255 # convert image to np array and normalize\n",
    "    test_image = np.expand_dims(test_image, axis = 0)# change dimention 3D to 4D\n",
    "\n",
    "    result = model.predict(test_image) # predict diseased palnt or not\n",
    "    #print(result) \n",
    "\n",
    "    pred = np.argmax(result, axis=1)\n",
    "    pred = pred[0]\n",
    "\n",
    "    expression = ['algal_spot', 'brown_blight', 'gray_blight', 'healthy', 'helopeltis', 'red_spot']\n",
    "\n",
    "    test_image = img.imread(test_img_path)\n",
    "    print(expression[pred])\n",
    "    plt.imshow(test_image)\n",
    "# predict('Tea_Leaf_Disease/healthy/20220101_090457.jpg')\n",
    "\n"
   ]
  },
  {
   "cell_type": "code",
   "execution_count": 2,
   "id": "e719ab0d",
   "metadata": {
    "execution": {
     "iopub.execute_input": "2022-11-16T12:53:59.982410Z",
     "iopub.status.busy": "2022-11-16T12:53:59.981999Z",
     "iopub.status.idle": "2022-11-16T12:54:00.286454Z",
     "shell.execute_reply": "2022-11-16T12:54:00.284937Z"
    },
    "papermill": {
     "duration": 0.492179,
     "end_time": "2022-11-16T12:54:00.289237",
     "exception": false,
     "start_time": "2022-11-16T12:53:59.797058",
     "status": "completed"
    },
    "tags": [],
    "pycharm": {
     "name": "#%%\n"
    }
   },
   "outputs": [
    {
     "ename": "NameError",
     "evalue": "name 'predict' is not defined",
     "output_type": "error",
     "traceback": [
      "\u001B[1;31m---------------------------------------------------------------------------\u001B[0m",
      "\u001B[1;31mNameError\u001B[0m                                 Traceback (most recent call last)",
      "Cell \u001B[1;32mIn[2], line 1\u001B[0m\n\u001B[1;32m----> 1\u001B[0m \u001B[43mpredict\u001B[49m(\u001B[38;5;124mf\u001B[39m\u001B[38;5;124m'\u001B[39m\u001B[38;5;132;01m{\u001B[39;00mdata_dir\u001B[38;5;132;01m}\u001B[39;00m\u001B[38;5;124m/gray_blight/20211225_233634.jpg\u001B[39m\u001B[38;5;124m'\u001B[39m)\n",
      "\u001B[1;31mNameError\u001B[0m: name 'predict' is not defined"
     ]
    }
   ],
   "source": [
    "predict(f'{data_dir}/gray_blight/20211225_233634.jpg')"
   ]
  },
  {
   "cell_type": "code",
   "execution_count": 1,
   "id": "e00b4f87",
   "metadata": {
    "pycharm": {
     "name": "#%%\n"
    }
   },
   "outputs": [
    {
     "ename": "NameError",
     "evalue": "name 'model' is not defined",
     "output_type": "error",
     "traceback": [
      "\u001B[1;31m---------------------------------------------------------------------------\u001B[0m",
      "\u001B[1;31mNameError\u001B[0m                                 Traceback (most recent call last)",
      "Cell \u001B[1;32mIn[1], line 2\u001B[0m\n\u001B[0;32m      1\u001B[0m model_version \u001B[38;5;241m=\u001B[39m \u001B[38;5;124m\"\u001B[39m\u001B[38;5;124mone\u001B[39m\u001B[38;5;124m\"\u001B[39m\n\u001B[1;32m----> 2\u001B[0m \u001B[43mmodel\u001B[49m\u001B[38;5;241m.\u001B[39msave(\u001B[38;5;124mf\u001B[39m\u001B[38;5;124m\"\u001B[39m\u001B[38;5;124m../models/\u001B[39m\u001B[38;5;132;01m{\u001B[39;00mmodel_version\u001B[38;5;132;01m}\u001B[39;00m\u001B[38;5;124m\"\u001B[39m)\n",
      "\u001B[1;31mNameError\u001B[0m: name 'model' is not defined"
     ]
    }
   ],
   "source": [
    "model_version = \"one\"\n",
    "model.save(f\"../models/{model_version}\")"
   ]
  },
  {
   "cell_type": "code",
   "execution_count": null,
   "id": "ea0c98c8",
   "metadata": {
    "pycharm": {
     "name": "#%%\n"
    }
   },
   "outputs": [],
   "source": []
  },
  {
   "cell_type": "code",
   "execution_count": null,
   "id": "b29ad133",
   "metadata": {
    "pycharm": {
     "name": "#%%\n"
    }
   },
   "outputs": [],
   "source": []
  }
 ],
 "metadata": {
  "kernelspec": {
   "display_name": "Python 3 (ipykernel)",
   "language": "python",
   "name": "python3"
  },
  "language_info": {
   "codemirror_mode": {
    "name": "ipython",
    "version": 3
   },
   "file_extension": ".py",
   "mimetype": "text/x-python",
   "name": "python",
   "nbconvert_exporter": "python",
   "pygments_lexer": "ipython3",
   "version": "3.10.8"
  },
  "papermill": {
   "default_parameters": {},
   "duration": 633.971352,
   "end_time": "2022-11-16T12:54:05.986848",
   "environment_variables": {},
   "exception": null,
   "input_path": "__notebook__.ipynb",
   "output_path": "__notebook__.ipynb",
   "parameters": {},
   "start_time": "2022-11-16T12:43:32.015496",
   "version": "2.3.4"
  }
 },
 "nbformat": 4,
 "nbformat_minor": 5
}