{
 "cells": [
  {
   "cell_type": "code",
   "execution_count": 1,
   "id": "45cac204",
   "metadata": {
    "_cell_guid": "b1076dfc-b9ad-4769-8c92-a6c4dae69d19",
    "_uuid": "8f2839f25d086af736a60e9eeb907d3b93b6e0e5",
    "execution": {
     "iopub.execute_input": "2022-11-16T12:43:41.937838Z",
     "iopub.status.busy": "2022-11-16T12:43:41.936752Z",
     "iopub.status.idle": "2022-11-16T12:43:49.926317Z",
     "shell.execute_reply": "2022-11-16T12:43:49.924756Z"
    },
    "papermill": {
     "duration": 8.001393,
     "end_time": "2022-11-16T12:43:49.929475",
     "exception": false,
     "start_time": "2022-11-16T12:43:41.928082",
     "status": "completed"
    },
    "tags": []
   },
   "outputs": [],
   "source": [
    "import matplotlib.pyplot as plt\n",
    "import matplotlib.image as img\n",
    "\n",
    "import numpy as np\n",
    "\n",
    "import PIL\n",
    "import tensorflow as tf\n",
    "\n",
    "from tensorflow import keras\n",
    "from tensorflow.keras import layers\n",
    "from tensorflow.keras.models import Sequential\n",
    "from tensorflow.keras.preprocessing.image import load_img\n",
    "from tensorflow.keras.preprocessing.image import img_to_array\n",
    "from tensorflow.keras.models import load_model"
   ]
  },
  {
   "cell_type": "code",
   "execution_count": 2,
   "id": "cee333ac",
   "metadata": {
    "execution": {
     "iopub.execute_input": "2022-11-16T12:43:49.944450Z",
     "iopub.status.busy": "2022-11-16T12:43:49.943296Z",
     "iopub.status.idle": "2022-11-16T12:43:49.951008Z",
     "shell.execute_reply": "2022-11-16T12:43:49.949551Z"
    },
    "papermill": {
     "duration": 0.018034,
     "end_time": "2022-11-16T12:43:49.954051",
     "exception": false,
     "start_time": "2022-11-16T12:43:49.936017",
     "status": "completed"
    },
    "tags": []
   },
   "outputs": [],
   "source": [
    "#set the dataset path\n",
    "data_dir = \"Tea_Leaf_Disease\""
   ]
  },
  {
   "cell_type": "code",
   "execution_count": 3,
   "id": "30482395",
   "metadata": {
    "execution": {
     "iopub.execute_input": "2022-11-16T12:43:49.968243Z",
     "iopub.status.busy": "2022-11-16T12:43:49.967254Z",
     "iopub.status.idle": "2022-11-16T12:43:49.973374Z",
     "shell.execute_reply": "2022-11-16T12:43:49.972317Z"
    },
    "papermill": {
     "duration": 0.016409,
     "end_time": "2022-11-16T12:43:49.976048",
     "exception": false,
     "start_time": "2022-11-16T12:43:49.959639",
     "status": "completed"
    },
    "tags": []
   },
   "outputs": [],
   "source": [
    "#set image size batch size for pre processing\n",
    "img_height,img_width=180,180\n",
    "batch_size=32"
   ]
  },
  {
   "cell_type": "code",
   "execution_count": 4,
   "id": "107fcd24",
   "metadata": {
    "execution": {
     "iopub.execute_input": "2022-11-16T12:43:49.989027Z",
     "iopub.status.busy": "2022-11-16T12:43:49.988146Z",
     "iopub.status.idle": "2022-11-16T12:43:51.090165Z",
     "shell.execute_reply": "2022-11-16T12:43:51.088381Z"
    },
    "papermill": {
     "duration": 1.112048,
     "end_time": "2022-11-16T12:43:51.093290",
     "exception": false,
     "start_time": "2022-11-16T12:43:49.981242",
     "status": "completed"
    },
    "tags": []
   },
   "outputs": [
    {
     "name": "stdout",
     "output_type": "stream",
     "text": [
      "Found 5867 files belonging to 6 classes.\n",
      "Using 4694 files for training.\n"
     ]
    }
   ],
   "source": [
    "#devide dataset for trainig \n",
    "train_ds = tf.keras.preprocessing.image_dataset_from_directory(\n",
    "  data_dir,\n",
    "  validation_split=0.2,\n",
    "  subset=\"training\",\n",
    "  seed=123,\n",
    "  image_size=(img_height, img_width),\n",
    "  batch_size=batch_size\n",
    ")"
   ]
  },
  {
   "cell_type": "code",
   "execution_count": 5,
   "id": "56d9a71a",
   "metadata": {
    "execution": {
     "iopub.execute_input": "2022-11-16T12:43:51.106069Z",
     "iopub.status.busy": "2022-11-16T12:43:51.105651Z",
     "iopub.status.idle": "2022-11-16T12:43:51.443919Z",
     "shell.execute_reply": "2022-11-16T12:43:51.442159Z"
    },
    "papermill": {
     "duration": 0.347975,
     "end_time": "2022-11-16T12:43:51.446788",
     "exception": false,
     "start_time": "2022-11-16T12:43:51.098813",
     "status": "completed"
    },
    "tags": []
   },
   "outputs": [
    {
     "name": "stdout",
     "output_type": "stream",
     "text": [
      "Found 5867 files belonging to 6 classes.\n",
      "Using 1173 files for validation.\n"
     ]
    }
   ],
   "source": [
    "#devide dataset for validation \n",
    "val_ds = tf.keras.preprocessing.image_dataset_from_directory(\n",
    "  data_dir,\n",
    "  validation_split=0.2,\n",
    "  subset=\"validation\",\n",
    "  seed=123,\n",
    "  image_size=(img_height, img_width),\n",
    "  batch_size=batch_size)"
   ]
  },
  {
   "cell_type": "code",
   "execution_count": 6,
   "id": "702fb83f",
   "metadata": {
    "execution": {
     "iopub.execute_input": "2022-11-16T12:43:51.460156Z",
     "iopub.status.busy": "2022-11-16T12:43:51.459751Z",
     "iopub.status.idle": "2022-11-16T12:43:51.465970Z",
     "shell.execute_reply": "2022-11-16T12:43:51.464680Z"
    },
    "papermill": {
     "duration": 0.016921,
     "end_time": "2022-11-16T12:43:51.469307",
     "exception": false,
     "start_time": "2022-11-16T12:43:51.452386",
     "status": "completed"
    },
    "tags": []
   },
   "outputs": [
    {
     "name": "stdout",
     "output_type": "stream",
     "text": [
      "['algal_spot', 'brown_blight', 'gray_blight', 'healthy', 'helopeltis', 'red_spot']\n"
     ]
    }
   ],
   "source": [
    "#get the class names from dataset\n",
    "class_names = train_ds.class_names\n",
    "print(class_names)"
   ]
  },
  {
   "cell_type": "code",
   "execution_count": 7,
   "id": "bdc25d81",
   "metadata": {
    "execution": {
     "iopub.execute_input": "2022-11-16T12:43:51.482834Z",
     "iopub.status.busy": "2022-11-16T12:43:51.482426Z",
     "iopub.status.idle": "2022-11-16T12:43:51.488161Z",
     "shell.execute_reply": "2022-11-16T12:43:51.486667Z"
    },
    "papermill": {
     "duration": 0.016259,
     "end_time": "2022-11-16T12:43:51.491369",
     "exception": false,
     "start_time": "2022-11-16T12:43:51.475110",
     "status": "completed"
    },
    "tags": []
   },
   "outputs": [],
   "source": [
    "#our dataset have 6 classes\n",
    "num_classes = 6"
   ]
  },
  {
   "cell_type": "code",
   "execution_count": 3,
   "id": "163638be",
   "metadata": {
    "execution": {
     "iopub.execute_input": "2022-11-16T12:43:51.504818Z",
     "iopub.status.busy": "2022-11-16T12:43:51.504373Z",
     "iopub.status.idle": "2022-11-16T12:43:51.926119Z",
     "shell.execute_reply": "2022-11-16T12:43:51.923698Z"
    },
    "papermill": {
     "duration": 0.43354,
     "end_time": "2022-11-16T12:43:51.930436",
     "exception": false,
     "start_time": "2022-11-16T12:43:51.496896",
     "status": "completed"
    },
    "tags": []
   },
   "outputs": [
    {
     "ename": "NameError",
     "evalue": "name 'Sequential' is not defined",
     "output_type": "error",
     "traceback": [
      "\u001b[1;31m---------------------------------------------------------------------------\u001b[0m",
      "\u001b[1;31mNameError\u001b[0m                                 Traceback (most recent call last)",
      "Cell \u001b[1;32mIn[3], line 2\u001b[0m\n\u001b[0;32m      1\u001b[0m \u001b[38;5;66;03m#set the image scale and size for model\u001b[39;00m\n\u001b[1;32m----> 2\u001b[0m model \u001b[38;5;241m=\u001b[39m \u001b[43mSequential\u001b[49m([\n\u001b[0;32m      3\u001b[0m   layers\u001b[38;5;241m.\u001b[39mexperimental\u001b[38;5;241m.\u001b[39mpreprocessing\u001b[38;5;241m.\u001b[39mRescaling(\u001b[38;5;241m1.\u001b[39m\u001b[38;5;241m/\u001b[39m\u001b[38;5;241m255\u001b[39m, input_shape\u001b[38;5;241m=\u001b[39m(img_height, img_width, \u001b[38;5;241m3\u001b[39m)),\n\u001b[0;32m      4\u001b[0m   layers\u001b[38;5;241m.\u001b[39mConv2D(\u001b[38;5;241m16\u001b[39m, \u001b[38;5;241m3\u001b[39m, padding\u001b[38;5;241m=\u001b[39m\u001b[38;5;124m'\u001b[39m\u001b[38;5;124msame\u001b[39m\u001b[38;5;124m'\u001b[39m, activation\u001b[38;5;241m=\u001b[39m\u001b[38;5;124m'\u001b[39m\u001b[38;5;124mrelu\u001b[39m\u001b[38;5;124m'\u001b[39m),\n\u001b[0;32m      5\u001b[0m   layers\u001b[38;5;241m.\u001b[39mMaxPooling2D(),\n\u001b[0;32m      6\u001b[0m   layers\u001b[38;5;241m.\u001b[39mConv2D(\u001b[38;5;241m32\u001b[39m, \u001b[38;5;241m3\u001b[39m, padding\u001b[38;5;241m=\u001b[39m\u001b[38;5;124m'\u001b[39m\u001b[38;5;124msame\u001b[39m\u001b[38;5;124m'\u001b[39m, activation\u001b[38;5;241m=\u001b[39m\u001b[38;5;124m'\u001b[39m\u001b[38;5;124mrelu\u001b[39m\u001b[38;5;124m'\u001b[39m),\n\u001b[0;32m      7\u001b[0m   layers\u001b[38;5;241m.\u001b[39mMaxPooling2D(),\n\u001b[0;32m      8\u001b[0m   layers\u001b[38;5;241m.\u001b[39mConv2D(\u001b[38;5;241m64\u001b[39m, \u001b[38;5;241m3\u001b[39m, padding\u001b[38;5;241m=\u001b[39m\u001b[38;5;124m'\u001b[39m\u001b[38;5;124msame\u001b[39m\u001b[38;5;124m'\u001b[39m, activation\u001b[38;5;241m=\u001b[39m\u001b[38;5;124m'\u001b[39m\u001b[38;5;124mrelu\u001b[39m\u001b[38;5;124m'\u001b[39m),\n\u001b[0;32m      9\u001b[0m   layers\u001b[38;5;241m.\u001b[39mMaxPooling2D(),\n\u001b[0;32m     10\u001b[0m   layers\u001b[38;5;241m.\u001b[39mFlatten(),\n\u001b[0;32m     11\u001b[0m   layers\u001b[38;5;241m.\u001b[39mDense(\u001b[38;5;241m128\u001b[39m, activation\u001b[38;5;241m=\u001b[39m\u001b[38;5;124m'\u001b[39m\u001b[38;5;124mrelu\u001b[39m\u001b[38;5;124m'\u001b[39m),\n\u001b[0;32m     12\u001b[0m   layers\u001b[38;5;241m.\u001b[39mDense(num_classes,activation\u001b[38;5;241m=\u001b[39m\u001b[38;5;124m'\u001b[39m\u001b[38;5;124msoftmax\u001b[39m\u001b[38;5;124m'\u001b[39m)\n\u001b[0;32m     13\u001b[0m ])\n",
      "\u001b[1;31mNameError\u001b[0m: name 'Sequential' is not defined"
     ]
    }
   ],
   "source": [
    "#set the image scale and size for model\n",
    "model = Sequential([\n",
    "  layers.experimental.preprocessing.Rescaling(1./255, input_shape=(img_height, img_width, 3)),\n",
    "  layers.Conv2D(16, 3, padding='same', activation='relu'),\n",
    "  layers.MaxPooling2D(),\n",
    "  layers.Conv2D(32, 3, padding='same', activation='relu'),\n",
    "  layers.MaxPooling2D(),\n",
    "  layers.Conv2D(64, 3, padding='same', activation='relu'),\n",
    "  layers.MaxPooling2D(),\n",
    "  layers.Flatten(),\n",
    "  layers.Dense(128, activation='relu'),\n",
    "  layers.Dense(num_classes,activation='softmax')\n",
    "])"
   ]
  },
  {
   "cell_type": "code",
   "execution_count": 11,
   "id": "bee09fc3",
   "metadata": {
    "execution": {
     "iopub.execute_input": "2022-11-16T12:43:51.947234Z",
     "iopub.status.busy": "2022-11-16T12:43:51.946418Z",
     "iopub.status.idle": "2022-11-16T12:43:51.966480Z",
     "shell.execute_reply": "2022-11-16T12:43:51.964642Z"
    },
    "papermill": {
     "duration": 0.033611,
     "end_time": "2022-11-16T12:43:51.970576",
     "exception": false,
     "start_time": "2022-11-16T12:43:51.936965",
     "status": "completed"
    },
    "tags": []
   },
   "outputs": [],
   "source": [
    "#compile the model\n",
    "model.compile(optimizer='adam',\n",
    "              loss=tf.keras.losses.SparseCategoricalCrossentropy(from_logits=True),\n",
    "              metrics=['accuracy'])"
   ]
  },
  {
   "cell_type": "code",
   "execution_count": 12,
   "id": "9fea43c1",
   "metadata": {
    "execution": {
     "iopub.execute_input": "2022-11-16T12:43:51.984696Z",
     "iopub.status.busy": "2022-11-16T12:43:51.984014Z",
     "iopub.status.idle": "2022-11-16T12:53:57.833828Z",
     "shell.execute_reply": "2022-11-16T12:53:57.831549Z"
    },
    "papermill": {
     "duration": 605.861006,
     "end_time": "2022-11-16T12:53:57.837263",
     "exception": false,
     "start_time": "2022-11-16T12:43:51.976257",
     "status": "completed"
    },
    "tags": []
   },
   "outputs": [
    {
     "name": "stdout",
     "output_type": "stream",
     "text": [
      "Epoch 1/15\n",
      "147/147 [==============================] - 34s 227ms/step - loss: 0.0447 - accuracy: 0.9842 - val_loss: 0.7090 - val_accuracy: 0.8193\n",
      "Epoch 2/15\n",
      "147/147 [==============================] - 33s 223ms/step - loss: 0.0421 - accuracy: 0.9868 - val_loss: 0.9691 - val_accuracy: 0.8244\n",
      "Epoch 3/15\n",
      "147/147 [==============================] - 34s 230ms/step - loss: 0.0695 - accuracy: 0.9781 - val_loss: 0.9233 - val_accuracy: 0.8048\n",
      "Epoch 4/15\n",
      "147/147 [==============================] - 33s 224ms/step - loss: 0.0298 - accuracy: 0.9906 - val_loss: 0.8762 - val_accuracy: 0.8133\n",
      "Epoch 5/15\n",
      "147/147 [==============================] - 34s 228ms/step - loss: 0.0379 - accuracy: 0.9874 - val_loss: 0.8248 - val_accuracy: 0.8389\n",
      "Epoch 6/15\n",
      "147/147 [==============================] - 33s 225ms/step - loss: 0.0089 - accuracy: 0.9974 - val_loss: 0.9350 - val_accuracy: 0.8099\n",
      "Epoch 7/15\n",
      "147/147 [==============================] - 33s 227ms/step - loss: 0.0276 - accuracy: 0.9889 - val_loss: 0.7655 - val_accuracy: 0.8406\n",
      "Epoch 8/15\n",
      "147/147 [==============================] - 33s 225ms/step - loss: 0.0239 - accuracy: 0.9919 - val_loss: 0.8665 - val_accuracy: 0.8193\n",
      "Epoch 9/15\n",
      "147/147 [==============================] - 33s 227ms/step - loss: 0.0586 - accuracy: 0.9804 - val_loss: 0.8341 - val_accuracy: 0.8048\n",
      "Epoch 10/15\n",
      "147/147 [==============================] - 37s 254ms/step - loss: 0.0228 - accuracy: 0.9945 - val_loss: 0.8072 - val_accuracy: 0.8159\n",
      "Epoch 11/15\n",
      "147/147 [==============================] - 33s 226ms/step - loss: 0.0033 - accuracy: 0.9996 - val_loss: 0.8654 - val_accuracy: 0.8491\n",
      "Epoch 12/15\n",
      "147/147 [==============================] - 33s 227ms/step - loss: 6.0848e-04 - accuracy: 1.0000 - val_loss: 0.9191 - val_accuracy: 0.8483\n",
      "Epoch 13/15\n",
      "147/147 [==============================] - 33s 226ms/step - loss: 2.2750e-04 - accuracy: 1.0000 - val_loss: 0.9383 - val_accuracy: 0.8508\n",
      "Epoch 14/15\n",
      "147/147 [==============================] - 33s 227ms/step - loss: 1.6720e-04 - accuracy: 1.0000 - val_loss: 0.9579 - val_accuracy: 0.8491\n",
      "Epoch 15/15\n",
      "147/147 [==============================] - 34s 228ms/step - loss: 1.2902e-04 - accuracy: 1.0000 - val_loss: 0.9768 - val_accuracy: 0.8483\n"
     ]
    }
   ],
   "source": [
    "#fit the model\n",
    "epochs=15\n",
    "history = model.fit(\n",
    "  train_ds,\n",
    "  validation_data=val_ds,\n",
    "  epochs=epochs\n",
    ")"
   ]
  },
  {
   "cell_type": "code",
   "execution_count": 13,
   "id": "e1ef7b8d",
   "metadata": {
    "execution": {
     "iopub.execute_input": "2022-11-16T12:53:58.238364Z",
     "iopub.status.busy": "2022-11-16T12:53:58.237457Z",
     "iopub.status.idle": "2022-11-16T12:53:58.370081Z",
     "shell.execute_reply": "2022-11-16T12:53:58.368846Z"
    },
    "papermill": {
     "duration": 0.295595,
     "end_time": "2022-11-16T12:53:58.372851",
     "exception": false,
     "start_time": "2022-11-16T12:53:58.077256",
     "status": "completed"
    },
    "tags": []
   },
   "outputs": [],
   "source": [
    "#finally save the model\n",
    "# tf.keras.models.save_model(model,'tea.hdf5')"
   ]
  },
  {
   "cell_type": "code",
   "execution_count": 14,
   "id": "dee5fb01",
   "metadata": {
    "execution": {
     "iopub.execute_input": "2022-11-16T12:53:58.665369Z",
     "iopub.status.busy": "2022-11-16T12:53:58.664324Z",
     "iopub.status.idle": "2022-11-16T12:53:58.878161Z",
     "shell.execute_reply": "2022-11-16T12:53:58.876580Z"
    },
    "papermill": {
     "duration": 0.362831,
     "end_time": "2022-11-16T12:53:58.880987",
     "exception": false,
     "start_time": "2022-11-16T12:53:58.518156",
     "status": "completed"
    },
    "tags": []
   },
   "outputs": [],
   "source": [
    "# ======        for prediction using our trained model ============================================\n",
    "\n",
    "\n",
    "\n",
    "\n",
    "\n",
    "\n",
    "# from matplotlib import pyplot as plt\n",
    "# import os\n",
    "# import numpy as np\n",
    "\n",
    "\n",
    "# filepath = './tea.hdf5'\n",
    "# model = load_model(filepath)\n",
    "# print(model)\n",
    "\n",
    "# print(\"Model Loaded Successfully\")"
   ]
  },
  {
   "cell_type": "code",
   "execution_count": 4,
   "id": "c76b474a",
   "metadata": {
    "execution": {
     "iopub.execute_input": "2022-11-16T12:53:59.185241Z",
     "iopub.status.busy": "2022-11-16T12:53:59.184856Z",
     "iopub.status.idle": "2022-11-16T12:53:59.643601Z",
     "shell.execute_reply": "2022-11-16T12:53:59.642213Z"
    },
    "papermill": {
     "duration": 0.60665,
     "end_time": "2022-11-16T12:53:59.646278",
     "exception": false,
     "start_time": "2022-11-16T12:53:59.039628",
     "status": "completed"
    },
    "tags": []
   },
   "outputs": [],
   "source": [
    "def predict(test_img_path):\n",
    "    test_image = load_img(test_img_path, target_size = (180,180)) # load image \n",
    "\n",
    "    test_image = img_to_array(test_image)#/255 # convert image to np array and normalize\n",
    "    test_image = np.expand_dims(test_image, axis = 0)# change dimention 3D to 4D\n",
    "\n",
    "    result = model.predict(test_image) # predict diseased palnt or not\n",
    "    #print(result) \n",
    "\n",
    "    pred = np.argmax(result, axis=1)\n",
    "    pred = pred[0]\n",
    "\n",
    "    expression = ['algal_spot', 'brown_blight', 'gray_blight', 'healthy', 'helopeltis', 'red_spot']\n",
    "\n",
    "    test_image = img.imread(test_img_path)\n",
    "    print(expression[pred])\n",
    "    plt.imshow(test_image)\n",
    "# predict('Tea_Leaf_Disease/healthy/20220101_090457.jpg')\n",
    "\n"
   ]
  },
  {
   "cell_type": "code",
   "execution_count": 5,
   "id": "e719ab0d",
   "metadata": {
    "execution": {
     "iopub.execute_input": "2022-11-16T12:53:59.982410Z",
     "iopub.status.busy": "2022-11-16T12:53:59.981999Z",
     "iopub.status.idle": "2022-11-16T12:54:00.286454Z",
     "shell.execute_reply": "2022-11-16T12:54:00.284937Z"
    },
    "papermill": {
     "duration": 0.492179,
     "end_time": "2022-11-16T12:54:00.289237",
     "exception": false,
     "start_time": "2022-11-16T12:53:59.797058",
     "status": "completed"
    },
    "tags": []
   },
   "outputs": [],
   "source": [
    "# predict(f'{data_dir}/gray_blight/20211225_233634.jpg')"
   ]
  },
  {
   "cell_type": "code",
   "execution_count": 6,
   "id": "8d1a876d",
   "metadata": {
    "execution": {
     "iopub.execute_input": "2022-11-16T12:54:00.595879Z",
     "iopub.status.busy": "2022-11-16T12:54:00.595452Z",
     "iopub.status.idle": "2022-11-16T12:54:00.936820Z",
     "shell.execute_reply": "2022-11-16T12:54:00.935351Z"
    },
    "papermill": {
     "duration": 0.503125,
     "end_time": "2022-11-16T12:54:00.939923",
     "exception": false,
     "start_time": "2022-11-16T12:54:00.436798",
     "status": "completed"
    },
    "tags": []
   },
   "outputs": [],
   "source": [
    "# predict('Tea_Leaf_Disease/brown_blight/20211205_160054.jpg')"
   ]
  },
  {
   "cell_type": "code",
   "execution_count": 7,
   "id": "def893a6",
   "metadata": {
    "execution": {
     "iopub.execute_input": "2022-11-16T12:54:01.937028Z",
     "iopub.status.busy": "2022-11-16T12:54:01.935896Z",
     "iopub.status.idle": "2022-11-16T12:54:02.235545Z",
     "shell.execute_reply": "2022-11-16T12:54:02.234403Z"
    },
    "papermill": {
     "duration": 0.454348,
     "end_time": "2022-11-16T12:54:02.238262",
     "exception": false,
     "start_time": "2022-11-16T12:54:01.783914",
     "status": "completed"
    },
    "tags": []
   },
   "outputs": [],
   "source": [
    "# predict(\"Tea_Leaf_Disease/helopeltis/20211205_160546.jpg\")"
   ]
  },
  {
   "cell_type": "code",
   "execution_count": 8,
   "id": "09eaf75a",
   "metadata": {
    "execution": {
     "iopub.execute_input": "2022-11-16T12:54:02.535223Z",
     "iopub.status.busy": "2022-11-16T12:54:02.534749Z",
     "iopub.status.idle": "2022-11-16T12:54:02.853769Z",
     "shell.execute_reply": "2022-11-16T12:54:02.852222Z"
    },
    "papermill": {
     "duration": 0.472327,
     "end_time": "2022-11-16T12:54:02.856953",
     "exception": false,
     "start_time": "2022-11-16T12:54:02.384626",
     "status": "completed"
    },
    "tags": []
   },
   "outputs": [],
   "source": [
    "# predict(\"Tea_Leaf_Disease/red_spot/20211205_155013.jpg\")"
   ]
  },
  {
   "cell_type": "code",
   "execution_count": 9,
   "id": "e00b4f87",
   "metadata": {},
   "outputs": [
    {
     "ename": "NameError",
     "evalue": "name 'model' is not defined",
     "output_type": "error",
     "traceback": [
      "\u001b[1;31m---------------------------------------------------------------------------\u001b[0m",
      "\u001b[1;31mNameError\u001b[0m                                 Traceback (most recent call last)",
      "Cell \u001b[1;32mIn[9], line 2\u001b[0m\n\u001b[0;32m      1\u001b[0m model_version \u001b[38;5;241m=\u001b[39m \u001b[38;5;241m1\u001b[39m\n\u001b[1;32m----> 2\u001b[0m \u001b[43mmodel\u001b[49m\u001b[38;5;241m.\u001b[39msave(\u001b[38;5;124mf\u001b[39m\u001b[38;5;124m\"\u001b[39m\u001b[38;5;124m../models/\u001b[39m\u001b[38;5;132;01m{\u001b[39;00mmodel_version\u001b[38;5;132;01m}\u001b[39;00m\u001b[38;5;124m\"\u001b[39m)\n",
      "\u001b[1;31mNameError\u001b[0m: name 'model' is not defined"
     ]
    }
   ],
   "source": [
    "model_version = 1\n",
    "model.save(f\"../models/{model_version}\")"
   ]
  },
  {
   "cell_type": "code",
   "execution_count": null,
   "id": "ea0c98c8",
   "metadata": {},
   "outputs": [],
   "source": []
  },
  {
   "cell_type": "code",
   "execution_count": null,
   "id": "b29ad133",
   "metadata": {},
   "outputs": [],
   "source": []
  }
 ],
 "metadata": {
  "kernelspec": {
   "display_name": "Python 3 (ipykernel)",
   "language": "python",
   "name": "python3"
  },
  "language_info": {
   "codemirror_mode": {
    "name": "ipython",
    "version": 3
   },
   "file_extension": ".py",
   "mimetype": "text/x-python",
   "name": "python",
   "nbconvert_exporter": "python",
   "pygments_lexer": "ipython3",
   "version": "3.10.8"
  },
  "papermill": {
   "default_parameters": {},
   "duration": 633.971352,
   "end_time": "2022-11-16T12:54:05.986848",
   "environment_variables": {},
   "exception": null,
   "input_path": "__notebook__.ipynb",
   "output_path": "__notebook__.ipynb",
   "parameters": {},
   "start_time": "2022-11-16T12:43:32.015496",
   "version": "2.3.4"
  }
 },
 "nbformat": 4,
 "nbformat_minor": 5
}
